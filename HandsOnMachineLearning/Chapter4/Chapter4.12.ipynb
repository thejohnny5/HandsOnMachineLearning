{
 "cells": [
  {
   "cell_type": "code",
   "execution_count": 83,
   "id": "c13d3b20",
   "metadata": {},
   "outputs": [],
   "source": [
    "from sklearn import datasets\n",
    "import numpy as np\n",
    "iris = datasets.load_iris()"
   ]
  },
  {
   "cell_type": "code",
   "execution_count": 84,
   "id": "58e539bc",
   "metadata": {},
   "outputs": [],
   "source": [
    "X = iris['data'][:, (2, 3)]\n",
    "y = iris['target']"
   ]
  },
  {
   "cell_type": "code",
   "execution_count": 85,
   "id": "83ea4fe9",
   "metadata": {},
   "outputs": [
    {
     "data": {
      "text/plain": [
       "dict_keys(['data', 'target', 'frame', 'target_names', 'DESCR', 'feature_names', 'filename'])"
      ]
     },
     "execution_count": 85,
     "metadata": {},
     "output_type": "execute_result"
    }
   ],
   "source": [
    "iris.keys()"
   ]
  },
  {
   "cell_type": "code",
   "execution_count": 86,
   "id": "c46b2951",
   "metadata": {},
   "outputs": [],
   "source": [
    "X_with_bias = np.c_[X, np.ones(len(X))]"
   ]
  },
  {
   "cell_type": "code",
   "execution_count": 87,
   "id": "eee6bb71",
   "metadata": {},
   "outputs": [],
   "source": [
    "np.random.seed(2042)"
   ]
  },
  {
   "cell_type": "code",
   "execution_count": 88,
   "id": "e8e466e0",
   "metadata": {},
   "outputs": [],
   "source": [
    "def train_val_test_split(X, y, val_ratio=0.2, test_ratio=0.2):\n",
    "    total_size = len(X)\n",
    "    validation_size = int(val_ratio * total_size)\n",
    "    test_size = int(test_ratio * total_size)\n",
    "    train_size = total_size - test_size - validation_size\n",
    "    rnd_indices = np.random.permutation(total_size)\n",
    "\n",
    "    X_train = X_with_bias[rnd_indices[:train_size]]\n",
    "    y_train = y[rnd_indices[:train_size]]\n",
    "    X_valid = X_with_bias[rnd_indices[train_size:-test_size]]\n",
    "    y_valid = y[rnd_indices[train_size:-test_size]]\n",
    "    X_test = X_with_bias[rnd_indices[-test_size:]]\n",
    "    y_test = y[rnd_indices[-test_size:]]\n",
    "\n",
    "    \n",
    "    return X_train, y_train, X_valid, y_valid, X_test, y_test"
   ]
  },
  {
   "cell_type": "code",
   "execution_count": 89,
   "id": "250086b1",
   "metadata": {},
   "outputs": [],
   "source": [
    "def one_hot(y):\n",
    "    n_classes = y.max() + 1\n",
    "    y_hot = np.zeros((len(y), n_classes))\n",
    "    y_hot[np.arange(len(y)), y] = 1\n",
    "    return y_hot"
   ]
  },
  {
   "cell_type": "code",
   "execution_count": 90,
   "id": "5843bf6f",
   "metadata": {},
   "outputs": [],
   "source": [
    "X_train, y_train, X_val, y_val, X_test, y_test = train_val_test_split(X, y)"
   ]
  },
  {
   "cell_type": "code",
   "execution_count": 91,
   "id": "8421bfb2",
   "metadata": {},
   "outputs": [],
   "source": [
    "y_train_hot = one_hot(y_train)\n",
    "y_val_hot = one_hot(y_val)\n",
    "y_test_hot = one_hot(y_test)"
   ]
  },
  {
   "cell_type": "code",
   "execution_count": 92,
   "id": "7e648e31",
   "metadata": {},
   "outputs": [],
   "source": [
    "def softmax(logits):\n",
    "    top = np.exp(logits)\n",
    "    bottom = np.sum(top, axis=1, keepdims=True)\n",
    "    return top/bottom"
   ]
  },
  {
   "cell_type": "code",
   "execution_count": 93,
   "id": "30104403",
   "metadata": {},
   "outputs": [],
   "source": [
    "n_inputs = X_train.shape[1] # == 3 (2 features plus the bias term)\n",
    "n_outputs = len(np.unique(y_train))   # == 3 (3 iris classes)"
   ]
  },
  {
   "cell_type": "code",
   "execution_count": null,
   "id": "cfc40835",
   "metadata": {},
   "outputs": [],
   "source": []
  },
  {
   "cell_type": "code",
   "execution_count": 94,
   "id": "d5129da4",
   "metadata": {},
   "outputs": [
    {
     "name": "stdout",
     "output_type": "stream",
     "text": [
      "0 3.2514153811867685\n",
      "500 0.6943850541626947\n",
      "1000 0.5988602456060218\n",
      "1500 0.5387169376828606\n",
      "2000 0.49714114278350374\n",
      "2500 0.46620278764967515\n",
      "3000 0.44189269007882365\n",
      "3500 0.42201213208048566\n",
      "4000 0.40526290464729764\n",
      "4500 0.3908288285807467\n",
      "5000 0.37816916830391956\n"
     ]
    }
   ],
   "source": [
    "eta = 0.01\n",
    "n_iterations = 5001\n",
    "m = len(X_train)\n",
    "epsilon = 1e-7\n",
    "Theta = np.random.randn(n_inputs, n_outputs)\n",
    "\n",
    "for iteration in range(n_iterations):\n",
    "    logits = X_train.dot(Theta)\n",
    "    y_proba = softmax(logits)\n",
    "    if iteration % 500 == 0:\n",
    "        loss = -np.mean(np.sum(y_train_hot * np.log(y_proba), axis=1))\n",
    "        print(iteration, loss)\n",
    "    error = y_proba - y_train_hot\n",
    "    grad = (1/m) * X_train.T.dot(error)\n",
    "    Theta -= (eta*grad)\n"
   ]
  },
  {
   "cell_type": "code",
   "execution_count": 95,
   "id": "f63b0381",
   "metadata": {},
   "outputs": [],
   "source": [
    "X1 = np.array([[3,2],[1,4],[7,6]])\n",
    "X2 = np.array([[7, 6], [2,1],[4,1]])"
   ]
  },
  {
   "cell_type": "code",
   "execution_count": 96,
   "id": "67c5722c",
   "metadata": {},
   "outputs": [
    {
     "data": {
      "text/plain": [
       "array([[-1.09425516,  0.41381588,  0.35147649],\n",
       "       [-1.04001404, -0.89491519,  0.98521988],\n",
       "       [ 3.90323678, -0.30106838, -2.92105073]])"
      ]
     },
     "execution_count": 96,
     "metadata": {},
     "output_type": "execute_result"
    }
   ],
   "source": [
    "Theta"
   ]
  },
  {
   "cell_type": "code",
   "execution_count": 97,
   "id": "686cd784",
   "metadata": {},
   "outputs": [
    {
     "data": {
      "text/plain": [
       "0.9666666666666667"
      ]
     },
     "execution_count": 97,
     "metadata": {},
     "output_type": "execute_result"
    }
   ],
   "source": [
    "logits = X_val.dot(Theta)\n",
    "y_proba = softmax(logits)\n",
    "y_predict = np.argmax(y_proba, axis=1)\n",
    "accuracy_score = np.mean(y_predict == y_val)\n",
    "accuracy_score"
   ]
  },
  {
   "cell_type": "code",
   "execution_count": null,
   "id": "f15413af",
   "metadata": {},
   "outputs": [],
   "source": []
  }
 ],
 "metadata": {
  "kernelspec": {
   "display_name": "Python 3",
   "language": "python",
   "name": "python3"
  },
  "language_info": {
   "codemirror_mode": {
    "name": "ipython",
    "version": 3
   },
   "file_extension": ".py",
   "mimetype": "text/x-python",
   "name": "python",
   "nbconvert_exporter": "python",
   "pygments_lexer": "ipython3",
   "version": "3.9.5"
  }
 },
 "nbformat": 4,
 "nbformat_minor": 5
}
