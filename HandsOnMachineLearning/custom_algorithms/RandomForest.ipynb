{
 "cells": [
  {
   "cell_type": "code",
   "execution_count": 1,
   "id": "7928cdbd",
   "metadata": {},
   "outputs": [],
   "source": [
    "import numpy as np"
   ]
  },
  {
   "cell_type": "code",
   "execution_count": null,
   "id": "0b4bdb8e",
   "metadata": {},
   "outputs": [],
   "source": [
    "#CART\n",
    "def entropy(y):\n",
    "    hist = np.bincount(y)\n",
    "    ps = hist/len(y)\n",
    "    return -np.sum([ps * np.log2(ps) for p in ps if p>0])\n",
    "\n",
    "class Node:\n",
    "    def __init__(self, feature=None, threshold=None, left=None, right=None, *, value=None):\n",
    "        self.feature = feature\n",
    "        self.threshold = threshold\n",
    "        self.left = left\n",
    "        self.right = right\n",
    "        self.value = value\n",
    "        \n",
    "    def is_leaf_node(self):\n",
    "        return(self.value is not None)\n",
    "\n",
    "class DecisionTree:\n",
    "    def __init__(self, min_samples_split=2, max_depth=100, n_features=None):\n",
    "        self.min_samples_split = min_samples_split\n",
    "        self.max_depth = max_depth\n",
    "        self.n_features = n_features\n",
    "        self.root = None \n",
    "        \n",
    "    def fit(self, X, y):\n",
    "        self.n_featues = X.shape[1] if not self.n_feats else min(self.n_feats, X.shape[1])\n",
    "        self.root = self._grow_tree(X, y)\n",
    "    \n",
    "    def _grow_tree(self, X, y, depth=0):\n",
    "        m, n = X.shape\n",
    "        n_labels = len(np.unique(y))\n",
    "        \n",
    "        if (depth>=self.max_depth or n_labels == 1 or m < self.min_samples_split):\n",
    "            leaf_value =self._most_common_label(y)\n",
    "            return(Node(value=leaf_value))\n",
    "        feat_idxs = np.random.choice(n, self.n_feats, replace=False)\n",
    "    \n",
    "    \n",
    "            "
   ]
  }
 ],
 "metadata": {
  "kernelspec": {
   "display_name": "Python 3",
   "language": "python",
   "name": "python3"
  },
  "language_info": {
   "codemirror_mode": {
    "name": "ipython",
    "version": 3
   },
   "file_extension": ".py",
   "mimetype": "text/x-python",
   "name": "python",
   "nbconvert_exporter": "python",
   "pygments_lexer": "ipython3",
   "version": "3.6.13"
  }
 },
 "nbformat": 4,
 "nbformat_minor": 5
}
