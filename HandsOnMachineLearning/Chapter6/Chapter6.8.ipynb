{
 "cells": [
  {
   "cell_type": "code",
   "execution_count": 41,
   "id": "7814de3b",
   "metadata": {},
   "outputs": [],
   "source": [
    "from sklearn.datasets import make_moons\n",
    "moons = make_moons(n_samples=10000, noise=0.4, random_state=42)"
   ]
  },
  {
   "cell_type": "code",
   "execution_count": 42,
   "id": "269d81c5",
   "metadata": {},
   "outputs": [],
   "source": [
    "X = moons[0]\n",
    "y = moons[1]"
   ]
  },
  {
   "cell_type": "code",
   "execution_count": 43,
   "id": "95752426",
   "metadata": {},
   "outputs": [],
   "source": [
    "from sklearn.model_selection import train_test_split\n",
    "\n",
    "X_train, X_test, y_train, y_test = train_test_split(X, y)"
   ]
  },
  {
   "cell_type": "code",
   "execution_count": 44,
   "id": "1e62ffb0",
   "metadata": {},
   "outputs": [],
   "source": [
    "from sklearn.model_selection import ShuffleSplit\n",
    "n_instances = 100\n",
    "n_subsets = 1000\n",
    "\n",
    "rs = ShuffleSplit(n_splits=n_instances, train_size=n_subsets, \n",
    "                  test_size=len(X_train)-n_subsets, random_state=42)"
   ]
  },
  {
   "cell_type": "code",
   "execution_count": 45,
   "id": "499111c4",
   "metadata": {},
   "outputs": [],
   "source": [
    "from sklearn.model_selection import GridSearchCV\n",
    "import numpy as np\n",
    "from sklearn.tree import DecisionTreeClassifier\n",
    "\n",
    "#best values from previous exercise\n",
    "det_clf = DecisionTreeClassifier(splitter= \"best\", min_samples_split=2,\n",
    "    max_leaf_nodes=None, max_depth=None, min_samples_leaf=1, \n",
    "                                 min_impurity_decrease=0.02)\n"
   ]
  },
  {
   "cell_type": "code",
   "execution_count": null,
   "id": "5c280ba3",
   "metadata": {},
   "outputs": [],
   "source": []
  },
  {
   "cell_type": "code",
   "execution_count": 50,
   "id": "7672ff13",
   "metadata": {},
   "outputs": [],
   "source": [
    "from sklearn.metrics import accuracy_score\n",
    "from sklearn.base import clone\n",
    "random_forest = [clone(det_clf) for _ in range(n_instances)]\n",
    "i = 0\n",
    "acc_score = []\n",
    "for train, test in rs.split(X_train):\n",
    "    \n",
    "    X_train_mini, y_train_mini = X_train[train], y_train[train]\n",
    "    X_test_mini, y_test_mini = X_train[test], y_train[test]\n",
    "    random_forest[i].fit(X_train_mini, y_train_mini)\n",
    "    y_pred = random_forest[i].predict(X_test)\n",
    "    acc_score.append(accuracy_score(y_pred, y_test))\n",
    "    #print('Iteration ' + str(i+1) + \": \", )\n",
    "    i += 1"
   ]
  },
  {
   "cell_type": "code",
   "execution_count": 51,
   "id": "e9418f6e",
   "metadata": {},
   "outputs": [
    {
     "data": {
      "text/plain": [
       "0.841908"
      ]
     },
     "execution_count": 51,
     "metadata": {},
     "output_type": "execute_result"
    }
   ],
   "source": [
    "np.mean(acc_score)"
   ]
  },
  {
   "cell_type": "code",
   "execution_count": 23,
   "id": "83e52571",
   "metadata": {},
   "outputs": [],
   "source": [
    "from scipy.stats import mode"
   ]
  },
  {
   "cell_type": "code",
   "execution_count": 48,
   "id": "3802e629",
   "metadata": {},
   "outputs": [],
   "source": [
    "y_pred = mode([i.predict(X_test) for i in random_forest])"
   ]
  },
  {
   "cell_type": "code",
   "execution_count": 49,
   "id": "fa7ddcfc",
   "metadata": {},
   "outputs": [
    {
     "name": "stdout",
     "output_type": "stream",
     "text": [
      "0.846\n"
     ]
    }
   ],
   "source": [
    "#y_pred[0].ravel().shape\n",
    "print(accuracy_score(y_test, y_pred[0].ravel()))"
   ]
  },
  {
   "cell_type": "code",
   "execution_count": 52,
   "id": "2d5dcc65",
   "metadata": {},
   "outputs": [],
   "source": [
    "Y_pred = np.empty([n_instances, len(X_test)], dtype=np.uint8)\n",
    "\n",
    "for tree_index, tree in enumerate(random_forest):\n",
    "    Y_pred[tree_index] = tree.predict(X_test)"
   ]
  },
  {
   "cell_type": "code",
   "execution_count": 53,
   "id": "d8a21db8",
   "metadata": {},
   "outputs": [],
   "source": [
    "y_pred_majority_votes, n_votes = mode(Y_pred, axis=0)"
   ]
  },
  {
   "cell_type": "code",
   "execution_count": 57,
   "id": "22472443",
   "metadata": {},
   "outputs": [
    {
     "data": {
      "text/plain": [
       "0.846"
      ]
     },
     "execution_count": 57,
     "metadata": {},
     "output_type": "execute_result"
    }
   ],
   "source": [
    "accuracy_score(y_test, y_pred_majority_votes.reshape(-1))"
   ]
  }
 ],
 "metadata": {
  "kernelspec": {
   "display_name": "Python 3",
   "language": "python",
   "name": "python3"
  },
  "language_info": {
   "codemirror_mode": {
    "name": "ipython",
    "version": 3
   },
   "file_extension": ".py",
   "mimetype": "text/x-python",
   "name": "python",
   "nbconvert_exporter": "python",
   "pygments_lexer": "ipython3",
   "version": "3.9.5"
  }
 },
 "nbformat": 4,
 "nbformat_minor": 5
}
